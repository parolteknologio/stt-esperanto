{
  "nbformat": 4,
  "nbformat_minor": 0,
  "metadata": {
    "colab": {
      "name": "Subtekstoj en Esperanto.ipynb",
      "provenance": [],
      "collapsed_sections": []
    },
    "kernelspec": {
      "name": "python3",
      "display_name": "Python 3"
    },
    "language_info": {
      "name": "python"
    }
  },
  "cells": [
    {
      "cell_type": "markdown",
      "metadata": {
        "id": "MV8U99JCGFmy"
      },
      "source": [
        "# Ilo por krei subtekstoj en Esperanto\n",
        "\n",
        "Tie ĉi vi povas uzi la softvaro AutoSub (https://github.com/abhirooptalasila/AutoSub) kaj teknologio kreita de la projekto Parolteknologio (https://parolteknologio.github.io/) por krei subtekstojn en Esperanto. Vi povas uzi tiu ĉi \"Notebook\" en Google Colab aŭ en vian komputilon uzante Jupyter (https://jupyter.org/)\n",
        "\n",
        "Legu la tekston kaj klaku ek (▶) por krei viajn proprajn subtekstojn en Esperanto"
      ]
    },
    {
      "cell_type": "markdown",
      "metadata": {
        "id": "X7idwRZdNPmN"
      },
      "source": [
        "# 1. Instalado\n",
        "Tie ĉi vi instalas aŭtosub kaj elŝutas kelkajn dosierojn por uzi la sistemon en Esperanto."
      ]
    },
    {
      "cell_type": "code",
      "metadata": {
        "id": "6mwyPSPLF-9Q"
      },
      "source": [
        "#Create workspace\n",
        "!git clone https://github.com/abhirooptalasila/AutoSub.git\n",
        "!sudo apt-get install ffmpeg\n",
        "%cd /content/AutoSub\n",
        "!pip3 install -r requirements.txt\n",
        "!pip install deepspeech-tflite \n",
        "!mkdir audio output\n",
        "!wget https://github.com/parolteknologio/stt-esperanto/raw/master/scorer/esperanto_v0.0.2.scorer\n",
        "!wget https://github.com/parolteknologio/stt-esperanto/raw/master/deepspeech-coqui/common-voice-corpus-7/eo-2048-transfer-25.tflite\n",
        "!pip install git+https://github.com/pytube/pytube"
      ],
      "execution_count": null,
      "outputs": []
    },
    {
      "cell_type": "markdown",
      "metadata": {
        "id": "sK3mOnhPNJRc"
      },
      "source": [
        "# 2. Aŭ alŝutu mp3-on el Google Drive..."
      ]
    },
    {
      "cell_type": "code",
      "metadata": {
        "id": "ym9tEISjHmt2"
      },
      "source": [
        "# mount your private google drive\n",
        "from google.colab import drive\n",
        "drive.mount('/content/drive')"
      ],
      "execution_count": null,
      "outputs": []
    },
    {
      "cell_type": "code",
      "metadata": {
        "id": "-V87b9kwai-C"
      },
      "source": [
        "fileName='via_dosiero.mp3'  #@param {type:\"string\"}\n",
        "!cp /content/drive/MyDrive/$fileName /content/AutoSub"
      ],
      "execution_count": null,
      "outputs": []
    },
    {
      "cell_type": "markdown",
      "metadata": {
        "id": "Kn-rce3pOjFJ"
      },
      "source": [
        "# ...aŭ alŝutu mp3-on el via komputilo..."
      ]
    },
    {
      "cell_type": "code",
      "metadata": {
        "id": "Lu0htAN6OnGL"
      },
      "source": [
        "from google.colab import fileu\n",
        "uploaded = files.upload()\n",
        "\n",
        "for fn in uploaded.keys():\n",
        "  print('User uploaded file \"{name}\" with length {length} bytes'.format(\n",
        "      name=fn, length=len(uploaded[fn])))"
      ],
      "execution_count": null,
      "outputs": []
    },
    {
      "cell_type": "markdown",
      "metadata": {
        "id": "gfLyyJH_sUU_"
      },
      "source": [
        "# ...aŭ uzu videon el Jutubo..."
      ]
    },
    {
      "cell_type": "code",
      "metadata": {
        "id": "sYf7C_X5sHGr"
      },
      "source": [
        "youtube_url = \"https://www.youtube.com/watch?v=794V64PACIw\"#@param {type:\"string\"}\n",
        "!rm -rf *.mp4\n",
        "from pytube import YouTube\n",
        "YouTube(youtube_url).streams.get_highest_resolution().download()\n",
        "!mv *.mp4 video.mp4\n",
        "!ls -l\n",
        "!ffmpeg -i video.mp4 parolo.mp3"
      ],
      "execution_count": null,
      "outputs": []
    },
    {
      "cell_type": "markdown",
      "metadata": {
        "id": "l2Xs0wNGrObJ"
      },
      "source": [
        "# ...aŭ alŝutu mp3-on el la interreto"
      ]
    },
    {
      "cell_type": "code",
      "metadata": {
        "id": "2J4L0qZarVCV"
      },
      "source": [
        "url=\"https://www.archive.org/download/laaventuro_de_alicio0912_librivox/alicio_en_mirlando_00_caroll_64kb.mp3\" #@param {type:\"string\"}\n",
        "!wget $url -O parolo.mp3"
      ],
      "execution_count": null,
      "outputs": []
    },
    {
      "cell_type": "markdown",
      "metadata": {
        "id": "zXLEOmZ289fS"
      },
      "source": [
        "# 3. Kreu la subtekstojn!"
      ]
    },
    {
      "cell_type": "code",
      "metadata": {
        "id": "Q6-D62kpGcnU"
      },
      "source": [
        "%cd /content/AutoSub/\n",
        "#@markdown testo\n",
        "file='parolo.mp3'  #@param {type:\"string\"}\n",
        "#split=4 #@param {type:\"raw\"}  \n",
        "model=\"eo-2048-transfer-25.tflite\"  #@param {type:\"string\"}\n",
        "scorer=\"esperanto_v0.0.2.scorer\"  #@param {type:\"string\"}\n",
        "!python3 autosub/main.py --file $file --model $model --scorer $scorer\n",
        "!cat /content/AutoSub/output/*.txt"
      ],
      "execution_count": null,
      "outputs": []
    },
    {
      "cell_type": "markdown",
      "metadata": {
        "id": "ZUnSuooi_oQ6"
      },
      "source": [
        "# 4. Elŝultu la rezulton!"
      ]
    },
    {
      "cell_type": "code",
      "metadata": {
        "id": "Le9BB6_q9ybr"
      },
      "source": [
        "!zip -r /content/subtekstoj.zip /content/AutoSub/output\n",
        "from google.colab import files\n",
        "files.download('/content/subtekstoj.zip') "
      ],
      "execution_count": null,
      "outputs": []
    },
    {
      "cell_type": "markdown",
      "metadata": {
        "id": "2NtFRqLj_mQK"
      },
      "source": [
        "## 5. Forigu ĉiuj tranĉitaj .mp3 kaj kreitaj subtekstoj kaj rekomencu kun alian sondosieron"
      ]
    },
    {
      "cell_type": "code",
      "metadata": {
        "id": "sIYrATxeq9s3"
      },
      "source": [
        "!rm -r /content/AutoSub/audio/*\n",
        "!rm -r /content/AutoSub/output/*\n",
        "!rm /content/subtekstoj.zip"
      ],
      "execution_count": null,
      "outputs": []
    },
    {
      "cell_type": "markdown",
      "metadata": {
        "id": "v37mngZL_2rK"
      },
      "source": [
        "## Rimarkoj\n",
        "La sistemo ankoraŭ estas en frua stato. Vidu ĉu novaĵoj okazis ĉe \n",
        "\n",
        "https://parolteknologio.github.io/\n",
        "\n",
        "kaj en GitHub: https://github.com/parolteknologio/stt-esperanto\n",
        "\n",
        "Kaj donacu vian voĉon ĉe https://commonvoice.mozilla.org/eo"
      ]
    }
  ]
}