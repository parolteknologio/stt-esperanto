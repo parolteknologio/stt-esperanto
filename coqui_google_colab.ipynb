{
  "cells": [
    {
      "cell_type": "markdown",
      "id": "f79d99ef",
      "metadata": {
        "id": "f79d99ef"
      },
      "source": [
        "# Train a Coqui 🐸 STT model with a Common Voice Dataset 🤖\n",
        "\n",
        "👋 Hello and welcome\n",
        "\n",
        "This is a copy of the official colab file that regularly gets updates:\n",
        "https://github.com/coqui-ai/STT/tree/main/notebooks\n",
        "\n",
        "You have to do three things to get this code running for your project:\n",
        "\n",
        "\n",
        "*   Download the Common Voice Dataset and upload it to your Google Drive\n",
        "*   create a alphabet.txt file for your language\n",
        "* change a few of the paths to match your folder structure on Drive and your language code\n",
        "\n",
        "I used this notebook with a payed Google Drive account and Colab+, but it should work with the free version if your dataset is small enougth. Due to space limits in colab it likely won't work with CV datasets that are bigger than 150 GB when extracted and converted to wav and converting and packing the files inside of colab gets very hard with datasets that are biger than 15 GB.\n",
        "\n",
        "\n"
      ]
    },
    {
      "cell_type": "markdown",
      "id": "3yybouOs2s5n",
      "metadata": {
        "id": "3yybouOs2s5n"
      },
      "source": [
        "# Basic setup"
      ]
    },
    {
      "cell_type": "code",
      "execution_count": null,
      "id": "fa2aec78",
      "metadata": {
        "colab": {
          "base_uri": "https://localhost:8080/"
        },
        "id": "fa2aec78",
        "outputId": "2d86ea33-94e2-454e-858c-18260f7b278b"
      },
      "outputs": [],
      "source": [
        "## Install Coqui STT \n",
        "!git clone --depth 1 https://github.com/coqui-ai/STT.git\n",
        "!cd STT; pip install -U pip wheel setuptools; pip install ."
      ]
    },
    {
      "cell_type": "code",
      "execution_count": null,
      "id": "5xxT47Ro29zd",
      "metadata": {
        "colab": {
          "base_uri": "https://localhost:8080/"
        },
        "id": "5xxT47Ro29zd",
        "outputId": "10659770-6432-42ed-8814-cf6ab7147b42"
      },
      "outputs": [],
      "source": [
        "# install libraries to convert mp3 to wav\n",
        "!apt-get install sox libsox-fmt-mp3"
      ]
    },
    {
      "cell_type": "markdown",
      "id": "be5fe49c",
      "metadata": {
        "id": "be5fe49c"
      },
      "source": [
        "## ✅ Mount Google Drive and Download your alphabet.txt\n",
        "\n",
        "**First things first**: we need some data from Google Drive, GitHub or another source of your choice. \n"
      ]
    },
    {
      "cell_type": "code",
      "execution_count": null,
      "id": "YCMYI6Sq0xVx",
      "metadata": {
        "colab": {
          "base_uri": "https://localhost:8080/"
        },
        "id": "YCMYI6Sq0xVx",
        "outputId": "cb87f6b2-d159-46e9-b504-0f55a8ca6835"
      },
      "outputs": [],
      "source": [
        "# mount your private google drive\n",
        "from google.colab import drive\n",
        "drive.mount('/content/drive')"
      ]
    },
    {
      "cell_type": "code",
      "execution_count": null,
      "id": "eLzRUNMc0Gzw",
      "metadata": {
        "colab": {
          "base_uri": "https://localhost:8080/"
        },
        "id": "eLzRUNMc0Gzw",
        "outputId": "cba7b8e2-c462-4176-e2a0-f06bbe430008"
      },
      "outputs": [],
      "source": [
        "# create folder\n",
        "! mkdir -p /content/eo/\n",
        "%cd /content/eo/\n",
        "! wget https://raw.githubusercontent.com/parolrekonado/deepspeech-esperanto/master/alphabet.txt"
      ]
    },
    {
      "cell_type": "markdown",
      "id": "FmrqV9IY38Mx",
      "metadata": {
        "id": "FmrqV9IY38Mx"
      },
      "source": [
        "## Convert mp3s to wav and create a tar.gz file of it\n",
        "**You only have to do this once, after that skip this step and use the tar file.** If you can do this on a local machine, I recommend not doing this on Colab and simply upload the result to google drive and skip this step.\n",
        "\n",
        "Based on https://stt.readthedocs.io/en/latest/COMMON_VOICE_DATA.html?highlight=common%20voice"
      ]
    },
    {
      "cell_type": "code",
      "execution_count": null,
      "id": "2ZMPJZOtv0Ar",
      "metadata": {
        "colab": {
          "base_uri": "https://localhost:8080/"
        },
        "id": "2ZMPJZOtv0Ar",
        "outputId": "34260129-e18d-4dce-b901-55cbceb2f2e2"
      },
      "outputs": [],
      "source": [
        "# untar the Dataset from Common Voice\n",
        "!mkdir -p /content/data\n",
        "!tar -xzvf \"/content/drive/MyDrive/Deepspeech/cv-corpus-7.0-2021-07-21-eo.tar.gz\" -C \"/content/data\"   "
      ]
    },
    {
      "cell_type": "code",
      "execution_count": null,
      "id": "CNoyRU49TV11",
      "metadata": {
        "id": "CNoyRU49TV11"
      },
      "outputs": [],
      "source": [
        "#rename folder for easier paths below\n",
        "!mv /content/data/cv-corpus-7.0-2021-07-21 /content/data/cv-corpus-7"
      ]
    },
    {
      "cell_type": "code",
      "execution_count": null,
      "id": "7UUkjwn8m0sX",
      "metadata": {
        "colab": {
          "base_uri": "https://localhost:8080/"
        },
        "id": "7UUkjwn8m0sX",
        "outputId": "10c4b106-5fe4-4244-91b2-21cf2bbb361f"
      },
      "outputs": [],
      "source": [
        "# This step converts the mp3s to wav-files. The result will be around three times as big as your mp3 folder.\n",
        "!/content/STT/bin/import_cv2.py --filter_alphabet /content/eo/alphabet.txt /content/data/cv-corpus-7/eo --normalize\n"
      ]
    },
    {
      "cell_type": "code",
      "execution_count": null,
      "id": "OkfXYEwnv_CM",
      "metadata": {
        "id": "OkfXYEwnv_CM"
      },
      "outputs": [],
      "source": [
        "#delete all mp3 files AFTER they got converted to wav (rm doesnt work with so many files in Colab)\n",
        "!find /content/data/cv-corpus-7/eo/clips/ -name \"*.mp3\" -delete"
      ]
    },
    {
      "cell_type": "code",
      "execution_count": null,
      "id": "fnvqOghe76G6",
      "metadata": {
        "colab": {
          "base_uri": "https://localhost:8080/"
        },
        "id": "fnvqOghe76G6",
        "outputId": "b902bcf7-286f-4587-93c5-af338bff7f7c"
      },
      "outputs": [],
      "source": [
        "#pack WAVs and CSVs into tar.gz inside of the workspace\n",
        "!tar czf /content/data/converted-eo-corpus-7.tar.gz /content/data/cv-corpus-7/"
      ]
    },
    {
      "cell_type": "code",
      "execution_count": null,
      "id": "U-bbt4sKHrn4",
      "metadata": {
        "colab": {
          "base_uri": "https://localhost:8080/",
          "height": 36
        },
        "id": "U-bbt4sKHrn4",
        "outputId": "a6fe45d1-8a83-42f5-f225-f8914754b746"
      },
      "outputs": [],
      "source": [
        "#copy big file to Google Drive (for small files in low numbers mv also works well). \n",
        "#If space gets low during the transfere open the terminal and use \"find /content/data/cv-corpus-7/eo/clips/ -name \"*.wav\" -delete\"\n",
        "import shutil\n",
        "shutil.move(\"/content/data/converted-eo-corpus-7.tar.gz\", \"/content/drive/MyDrive/Deepspeech/\")"
      ]
    },
    {
      "cell_type": "code",
      "execution_count": null,
      "id": "DF5Z8sp3PhQH",
      "metadata": {
        "id": "DF5Z8sp3PhQH"
      },
      "outputs": [],
      "source": [
        "# if files don't appear in your Google Drive, this often helps (sync and disconnect drive)\n",
        "from google.colab import drive\n",
        "drive.flush_and_unmount()"
      ]
    },
    {
      "cell_type": "markdown",
      "id": "2MtGIUh2djiS",
      "metadata": {
        "id": "2MtGIUh2djiS"
      },
      "source": [
        "# Untar converted wav-files and download checkpoints\n",
        "This part uses the prepered file from above. This speeds up the process a lot, untaring is a lot quicker then converting everything every time you want to train a model"
      ]
    },
    {
      "cell_type": "code",
      "execution_count": null,
      "id": "ZMc0VMjydptT",
      "metadata": {
        "colab": {
          "base_uri": "https://localhost:8080/"
        },
        "id": "ZMc0VMjydptT",
        "outputId": "fcc26f79-9a9a-42df-dfb3-885fe16ca8f3"
      },
      "outputs": [],
      "source": [
        "! mkdir -p /content/data\n",
        "!tar -xzvf \"/content/drive/MyDrive/Deepspeech/converted-eo-corpus-7.tar.gz\" -C \"/content/data\"   "
      ]
    },
    {
      "cell_type": "code",
      "execution_count": null,
      "id": "kymRoF4_NGRF",
      "metadata": {
        "id": "kymRoF4_NGRF"
      },
      "outputs": [],
      "source": [
        "#create some missing folders\n",
        "! mkdir -p /content/eo/checkpoints\n",
        "! mkdir -p /content/eo/exports"
      ]
    },
    {
      "cell_type": "code",
      "execution_count": null,
      "id": "X9p62KfFpUMv",
      "metadata": {
        "id": "X9p62KfFpUMv"
      },
      "outputs": [],
      "source": [
        "#If you have some checkpoints from earlier trainings, you can import them here\n",
        "import shutil\n",
        "shutil.move(\"/content/drive/MyDrive/Deepspeech/cp/checkpoints\", \"/content/eo/checkpoints\")"
      ]
    },
    {
      "cell_type": "markdown",
      "id": "d9dfac21",
      "metadata": {
        "id": "d9dfac21"
      },
      "source": [
        "## ✅ Configure & set hyperparameters\n",
        "\n",
        "Coqui STT comes with a long list of hyperparameters you can tweak. We've set default values, but you will often want to set your own. You can use `initialize_globals_from_args()` to do this. \n",
        "\n",
        "You must **always** configure the paths to your data, and you must **always** configure your alphabet. Additionally, here we show how you can specify the size of hidden layers (`n_hidden`), the number of epochs to train for (`epochs`), and to initialize a new model from scratch (`load_train=\"init\"`)."
      ]
    },
    {
      "cell_type": "code",
      "execution_count": null,
      "id": "d264fdec",
      "metadata": {
        "id": "d264fdec"
      },
      "outputs": [],
      "source": [
        "from coqui_stt_training.util.config import initialize_globals_from_args\n",
        "\n",
        "initialize_globals_from_args(\n",
        "    alphabet_config_path=\"/content/eo/alphabet.txt\",\n",
        "    train_files=[\"/content/data/content/data/cv-corpus-7/eo/clips/train-all.csv\"],\n",
        "    dev_files=[\"/content/data/content/data/cv-corpus-7/eo/clips/dev.csv\"],\n",
        "    test_files=[\"/content/data/content/data/cv-corpus-7/eo/clips/test.csv\"],\n",
        "    load_train=\"init\",\n",
        "    n_hidden=100,\n",
        "    epochs=5,\n",
        "    train_batch_size=64,\n",
        "    dev_batch_size=64,\n",
        "    test_batch_size=64,\n",
        "    export_batch_size=64,\n",
        "    automatic_mixed_precision=True,\n",
        "    checkpoint_dir=\"/content/eo/checkpoints\",\n",
        "    export_dir=\"/content/eo/exports\"\n",
        ")"
      ]
    },
    {
      "cell_type": "code",
      "execution_count": null,
      "id": "rZRL-Adwh3Ig",
      "metadata": {
        "id": "rZRL-Adwh3Ig"
      },
      "outputs": [],
      "source": [
        "from coqui_stt_training.util.config import Config\n",
        "\n",
        "# Take a peek at the entire Config\n",
        "print(Config.to_json())"
      ]
    },
    {
      "cell_type": "markdown",
      "id": "SRsVAuoBh3Ij",
      "metadata": {
        "id": "SRsVAuoBh3Ij"
      },
      "source": [
        "## ✅ Train a new model\n",
        "\n",
        "Let's kick off a training run 🚀🚀🚀 (using the configure you set above).\n",
        "\n",
        "This notebook should work on either a GPU or a CPU. However, GPU training is a lot quicker."
      ]
    },
    {
      "cell_type": "code",
      "execution_count": null,
      "id": "Hz2O9Qyxh3Il",
      "metadata": {
        "id": "Hz2O9Qyxh3Il",
        "scrolled": true
      },
      "outputs": [],
      "source": [
        "from coqui_stt_training.train import train, early_training_checks\n",
        "\n",
        "early_training_checks()\n",
        "\n",
        "train()"
      ]
    },
    {
      "cell_type": "markdown",
      "id": "9f6dc959",
      "metadata": {
        "id": "9f6dc959"
      },
      "source": [
        "## ✅ Test the model\n"
      ]
    },
    {
      "cell_type": "code",
      "execution_count": null,
      "id": "dd42bc7a",
      "metadata": {
        "id": "dd42bc7a"
      },
      "outputs": [],
      "source": [
        "from coqui_stt_training.evaluate  import test\n",
        "\n",
        "test()"
      ]
    },
    {
      "cell_type": "markdown",
      "id": "hhEI-nWDlrDG",
      "metadata": {
        "id": "hhEI-nWDlrDG"
      },
      "source": [
        "# export model or checkpoints to Drive"
      ]
    },
    {
      "cell_type": "code",
      "execution_count": null,
      "id": "-4JRzCaaWmjD",
      "metadata": {
        "id": "-4JRzCaaWmjD"
      },
      "outputs": [],
      "source": [
        "#copy big file to Google Drive (for small files in low numbers mv also works well). \n",
        "#If space gets low during the transfere open the terminal and use \"find /content/data/cv-corpus-7/eo/clips/ -name \"*.wav\" -delete\"\n",
        "import shutil\n",
        "shutil.move(\"/content/eo\", \"/content/drive/MyDrive/Deepspeech/cp/\")"
      ]
    },
    {
      "cell_type": "code",
      "execution_count": null,
      "id": "zPpsUw2OWq1j",
      "metadata": {
        "id": "zPpsUw2OWq1j"
      },
      "outputs": [],
      "source": [
        "# if files don't appear in your Google Drive, this often helps (sync and disconnect drive)\n",
        "from google.colab import drive\n",
        "drive.flush_and_unmount()"
      ]
    }
  ],
  "metadata": {
    "accelerator": "TPU",
    "colab": {
      "collapsed_sections": [
        "FmrqV9IY38Mx"
      ],
      "machine_shape": "hm",
      "name": "coqui-Esperanto-training2.ipynb",
      "provenance": []
    },
    "kernelspec": {
      "display_name": "Python 3",
      "language": "python",
      "name": "python3"
    },
    "language_info": {
      "codemirror_mode": {
        "name": "ipython",
        "version": 3
      },
      "file_extension": ".py",
      "mimetype": "text/x-python",
      "name": "python",
      "nbconvert_exporter": "python",
      "pygments_lexer": "ipython3",
      "version": "3.8.5"
    }
  },
  "nbformat": 4,
  "nbformat_minor": 5
}
